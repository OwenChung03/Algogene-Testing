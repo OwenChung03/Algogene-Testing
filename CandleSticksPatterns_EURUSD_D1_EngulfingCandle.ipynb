{
 "cells": [
  {
   "cell_type": "markdown",
   "metadata": {},
   "source": [
    "# Candlesticks Engulfing patterns and statistical analysis\n",
    "# Loading and preparing data"
   ]
  },
  {
   "cell_type": "code",
   "execution_count": 1,
   "metadata": {
    "scrolled": true
   },
   "outputs": [
    {
     "data": {
      "text/html": [
       "<div>\n",
       "<style scoped>\n",
       "    .dataframe tbody tr th:only-of-type {\n",
       "        vertical-align: middle;\n",
       "    }\n",
       "\n",
       "    .dataframe tbody tr th {\n",
       "        vertical-align: top;\n",
       "    }\n",
       "\n",
       "    .dataframe thead th {\n",
       "        text-align: right;\n",
       "    }\n",
       "</style>\n",
       "<table border=\"1\" class=\"dataframe\">\n",
       "  <thead>\n",
       "    <tr style=\"text-align: right;\">\n",
       "      <th></th>\n",
       "      <th>Local time</th>\n",
       "      <th>open</th>\n",
       "      <th>high</th>\n",
       "      <th>low</th>\n",
       "      <th>close</th>\n",
       "      <th>volume</th>\n",
       "    </tr>\n",
       "  </thead>\n",
       "  <tbody>\n",
       "    <tr>\n",
       "      <th>4322</th>\n",
       "      <td>14.10.2019 00:00:00.000 GMT+0300</td>\n",
       "      <td>1.10399</td>\n",
       "      <td>1.10428</td>\n",
       "      <td>1.10129</td>\n",
       "      <td>1.10281</td>\n",
       "      <td>150329.9600</td>\n",
       "    </tr>\n",
       "    <tr>\n",
       "      <th>4323</th>\n",
       "      <td>15.10.2019 00:00:00.000 GMT+0300</td>\n",
       "      <td>1.10281</td>\n",
       "      <td>1.10463</td>\n",
       "      <td>1.09915</td>\n",
       "      <td>1.10338</td>\n",
       "      <td>225114.4925</td>\n",
       "    </tr>\n",
       "    <tr>\n",
       "      <th>4324</th>\n",
       "      <td>16.10.2019 00:00:00.000 GMT+0300</td>\n",
       "      <td>1.10331</td>\n",
       "      <td>1.10857</td>\n",
       "      <td>1.10226</td>\n",
       "      <td>1.10720</td>\n",
       "      <td>224179.4392</td>\n",
       "    </tr>\n",
       "    <tr>\n",
       "      <th>4325</th>\n",
       "      <td>17.10.2019 00:00:00.000 GMT+0300</td>\n",
       "      <td>1.10724</td>\n",
       "      <td>1.11400</td>\n",
       "      <td>1.10653</td>\n",
       "      <td>1.11254</td>\n",
       "      <td>221922.6500</td>\n",
       "    </tr>\n",
       "    <tr>\n",
       "      <th>4326</th>\n",
       "      <td>18.10.2019 00:00:00.000 GMT+0300</td>\n",
       "      <td>1.11256</td>\n",
       "      <td>1.11727</td>\n",
       "      <td>1.11149</td>\n",
       "      <td>1.11723</td>\n",
       "      <td>143073.7750</td>\n",
       "    </tr>\n",
       "  </tbody>\n",
       "</table>\n",
       "</div>"
      ],
      "text/plain": [
       "                            Local time     open     high      low    close  \\\n",
       "4322  14.10.2019 00:00:00.000 GMT+0300  1.10399  1.10428  1.10129  1.10281   \n",
       "4323  15.10.2019 00:00:00.000 GMT+0300  1.10281  1.10463  1.09915  1.10338   \n",
       "4324  16.10.2019 00:00:00.000 GMT+0300  1.10331  1.10857  1.10226  1.10720   \n",
       "4325  17.10.2019 00:00:00.000 GMT+0300  1.10724  1.11400  1.10653  1.11254   \n",
       "4326  18.10.2019 00:00:00.000 GMT+0300  1.11256  1.11727  1.11149  1.11723   \n",
       "\n",
       "           volume  \n",
       "4322  150329.9600  \n",
       "4323  225114.4925  \n",
       "4324  224179.4392  \n",
       "4325  221922.6500  \n",
       "4326  143073.7750  "
      ]
     },
     "execution_count": 1,
     "metadata": {},
     "output_type": "execute_result"
    }
   ],
   "source": [
    "import pandas as pd\n",
    "df = pd.read_csv(\"EURUSD_Candlestick_1_D_ASK_05.05.2003-19.10.2019.csv\")\n",
    "df.tail()"
   ]
  },
  {
   "cell_type": "code",
   "execution_count": 5,
   "metadata": {},
   "outputs": [
    {
     "data": {
      "text/plain": [
       "Local time    0\n",
       "open          0\n",
       "high          0\n",
       "low           0\n",
       "close         0\n",
       "volume        0\n",
       "dtype: int64"
      ]
     },
     "execution_count": 5,
     "metadata": {},
     "output_type": "execute_result"
    }
   ],
   "source": [
    "#Check if NA values are in data\n",
    "df.isna().sum()"
   ]
  },
  {
   "cell_type": "markdown",
   "metadata": {},
   "source": [
    "# Identifying the Engulfing candle patterns"
   ]
  },
  {
   "cell_type": "code",
   "execution_count": 47,
   "metadata": {},
   "outputs": [
    {
     "data": {
      "text/plain": [
       "Local time    131\n",
       "open          131\n",
       "high          131\n",
       "low           131\n",
       "close         131\n",
       "volume        131\n",
       "signal1       131\n",
       "Trend         131\n",
       "result        131\n",
       "dtype: int64"
      ]
     },
     "execution_count": 47,
     "metadata": {},
     "output_type": "execute_result"
    }
   ],
   "source": [
    "#Engulfing pattern signals\n",
    "import random\n",
    "def Revsignal1(df1):\n",
    "    length = len(df1)\n",
    "    high = list(df1['high'])\n",
    "    low = list(df1['low'])\n",
    "    close = list(df1['close'])\n",
    "    open = list(df1['open'])\n",
    "    signal = [0] * length\n",
    "    bodydiff = [0] * length\n",
    "\n",
    "    for row in range(1, length):\n",
    "        bodydiff[row] = abs(open[row]-close[row])\n",
    "        bodydiffmin = 0.003\n",
    "        if (bodydiff[row]>bodydiffmin and bodydiff[row-1]>bodydiffmin and\n",
    "            open[row-1]<close[row-1] and\n",
    "            open[row]>close[row] and \n",
    "            #open[row]>=close[row-1] and close[row]<open[row-1]):\n",
    "            (open[row]-close[row-1])>=+0e-5 and close[row]<open[row-1]):\n",
    "            signal[row] = 1\n",
    "        elif (bodydiff[row]>bodydiffmin and bodydiff[row-1]>bodydiffmin and\n",
    "            open[row-1]>close[row-1] and\n",
    "            open[row]<close[row] and \n",
    "            #open[row]<=close[row-1] and close[row]>open[row-1]):\n",
    "            (open[row]-close[row-1])<=-0e-5 and close[row]>open[row-1]):\n",
    "            signal[row] = 2\n",
    "        else:\n",
    "            signal[row] = 0\n",
    "        #signal[row]=random.choice([0, 1, 2])\n",
    "        #signal[row]=1\n",
    "    return signal\n",
    "df['signal1'] = Revsignal1(df)\n",
    "df[df['signal1']==1].count()"
   ]
  },
  {
   "cell_type": "code",
   "execution_count": 48,
   "metadata": {},
   "outputs": [],
   "source": [
    "#Target\n",
    "def mytarget(df1, barsfront):\n",
    "    length = len(df1)\n",
    "    high = list(df1['high'])\n",
    "    low = list(df1['low'])\n",
    "    close = list(df1['close'])\n",
    "    open = list(df1['open'])\n",
    "    trendcat = [None] * length\n",
    "    \n",
    "    piplim = 300e-5\n",
    "    for line in range (0, length-1-barsfront):\n",
    "        for i in range(1,barsfront+1):\n",
    "            if ((high[line+i]-max(close[line],open[line]))>piplim) and ((min(close[line],open[line])-low[line+i])>piplim):\n",
    "                trendcat[line] = 3 # no trend\n",
    "            elif (min(close[line],open[line])-low[line+i])>piplim:\n",
    "                trendcat[line] = 1 #-1 downtrend\n",
    "                break\n",
    "            elif (high[line+i]-max(close[line],open[line]))>piplim:\n",
    "                trendcat[line] = 2 # uptrend\n",
    "                break\n",
    "            else:\n",
    "                trendcat[line] = 0 # no clear trend  \n",
    "    return trendcat\n",
    "\n",
    "df['Trend'] = mytarget(df,3)\n",
    "#df.head(30)\n"
   ]
  },
  {
   "cell_type": "code",
   "execution_count": 50,
   "metadata": {},
   "outputs": [
    {
     "name": "stdout",
     "output_type": "stream",
     "text": [
      "0.8205128205128205\n"
     ]
    },
    {
     "data": {
      "text/html": [
       "<div>\n",
       "<style scoped>\n",
       "    .dataframe tbody tr th:only-of-type {\n",
       "        vertical-align: middle;\n",
       "    }\n",
       "\n",
       "    .dataframe tbody tr th {\n",
       "        vertical-align: top;\n",
       "    }\n",
       "\n",
       "    .dataframe thead th {\n",
       "        text-align: right;\n",
       "    }\n",
       "</style>\n",
       "<table border=\"1\" class=\"dataframe\">\n",
       "  <thead>\n",
       "    <tr style=\"text-align: right;\">\n",
       "      <th></th>\n",
       "      <th>Local time</th>\n",
       "      <th>open</th>\n",
       "      <th>high</th>\n",
       "      <th>low</th>\n",
       "      <th>close</th>\n",
       "      <th>volume</th>\n",
       "      <th>signal1</th>\n",
       "      <th>Trend</th>\n",
       "      <th>result</th>\n",
       "    </tr>\n",
       "  </thead>\n",
       "  <tbody>\n",
       "    <tr>\n",
       "      <th>224</th>\n",
       "      <td>11.03.2004 00:00:00.000 GMT+0200</td>\n",
       "      <td>1.22216</td>\n",
       "      <td>1.23841</td>\n",
       "      <td>1.21627</td>\n",
       "      <td>1.23504</td>\n",
       "      <td>1.129471e+06</td>\n",
       "      <td>2</td>\n",
       "      <td>1.0</td>\n",
       "      <td>0</td>\n",
       "    </tr>\n",
       "    <tr>\n",
       "      <th>417</th>\n",
       "      <td>03.12.2004 00:00:00.000 GMT+0200</td>\n",
       "      <td>1.32682</td>\n",
       "      <td>1.34604</td>\n",
       "      <td>1.32513</td>\n",
       "      <td>1.34505</td>\n",
       "      <td>1.100705e+06</td>\n",
       "      <td>2</td>\n",
       "      <td>1.0</td>\n",
       "      <td>0</td>\n",
       "    </tr>\n",
       "    <tr>\n",
       "      <th>675</th>\n",
       "      <td>28.11.2005 00:00:00.000 GMT+0200</td>\n",
       "      <td>1.17096</td>\n",
       "      <td>1.19015</td>\n",
       "      <td>1.16806</td>\n",
       "      <td>1.18475</td>\n",
       "      <td>1.080417e+06</td>\n",
       "      <td>2</td>\n",
       "      <td>0.0</td>\n",
       "      <td>0</td>\n",
       "    </tr>\n",
       "    <tr>\n",
       "      <th>1049</th>\n",
       "      <td>27.04.2007 00:00:00.000 GMT+0300</td>\n",
       "      <td>1.36020</td>\n",
       "      <td>1.36830</td>\n",
       "      <td>1.35860</td>\n",
       "      <td>1.36540</td>\n",
       "      <td>1.024237e+06</td>\n",
       "      <td>2</td>\n",
       "      <td>1.0</td>\n",
       "      <td>0</td>\n",
       "    </tr>\n",
       "    <tr>\n",
       "      <th>1609</th>\n",
       "      <td>11.06.2009 00:00:00.000 GMT+0300</td>\n",
       "      <td>1.39863</td>\n",
       "      <td>1.41730</td>\n",
       "      <td>1.39440</td>\n",
       "      <td>1.41095</td>\n",
       "      <td>5.543684e+05</td>\n",
       "      <td>2</td>\n",
       "      <td>1.0</td>\n",
       "      <td>0</td>\n",
       "    </tr>\n",
       "    <tr>\n",
       "      <th>1689</th>\n",
       "      <td>30.09.2009 00:00:00.000 GMT+0300</td>\n",
       "      <td>1.45867</td>\n",
       "      <td>1.46739</td>\n",
       "      <td>1.45734</td>\n",
       "      <td>1.46376</td>\n",
       "      <td>7.987590e+04</td>\n",
       "      <td>2</td>\n",
       "      <td>1.0</td>\n",
       "      <td>0</td>\n",
       "    </tr>\n",
       "    <tr>\n",
       "      <th>2133</th>\n",
       "      <td>07.06.2011 00:00:00.000 GMT+0300</td>\n",
       "      <td>1.45766</td>\n",
       "      <td>1.46964</td>\n",
       "      <td>1.45646</td>\n",
       "      <td>1.46923</td>\n",
       "      <td>2.083190e+05</td>\n",
       "      <td>2</td>\n",
       "      <td>1.0</td>\n",
       "      <td>0</td>\n",
       "    </tr>\n",
       "    <tr>\n",
       "      <th>2174</th>\n",
       "      <td>03.08.2011 00:00:00.000 GMT+0300</td>\n",
       "      <td>1.42040</td>\n",
       "      <td>1.43448</td>\n",
       "      <td>1.41460</td>\n",
       "      <td>1.43243</td>\n",
       "      <td>3.184016e+05</td>\n",
       "      <td>2</td>\n",
       "      <td>1.0</td>\n",
       "      <td>0</td>\n",
       "    </tr>\n",
       "    <tr>\n",
       "      <th>2215</th>\n",
       "      <td>29.09.2011 00:00:00.000 GMT+0300</td>\n",
       "      <td>1.35433</td>\n",
       "      <td>1.36784</td>\n",
       "      <td>1.35205</td>\n",
       "      <td>1.35985</td>\n",
       "      <td>2.839137e+05</td>\n",
       "      <td>2</td>\n",
       "      <td>1.0</td>\n",
       "      <td>0</td>\n",
       "    </tr>\n",
       "    <tr>\n",
       "      <th>2244</th>\n",
       "      <td>08.11.2011 00:00:00.000 GMT+0200</td>\n",
       "      <td>1.37771</td>\n",
       "      <td>1.38480</td>\n",
       "      <td>1.37252</td>\n",
       "      <td>1.38339</td>\n",
       "      <td>2.502527e+05</td>\n",
       "      <td>2</td>\n",
       "      <td>1.0</td>\n",
       "      <td>0</td>\n",
       "    </tr>\n",
       "    <tr>\n",
       "      <th>2292</th>\n",
       "      <td>12.01.2012 00:00:00.000 GMT+0200</td>\n",
       "      <td>1.27072</td>\n",
       "      <td>1.28452</td>\n",
       "      <td>1.26999</td>\n",
       "      <td>1.28151</td>\n",
       "      <td>3.078163e+05</td>\n",
       "      <td>2</td>\n",
       "      <td>1.0</td>\n",
       "      <td>0</td>\n",
       "    </tr>\n",
       "    <tr>\n",
       "      <th>2607</th>\n",
       "      <td>21.03.2013 23:00:00.000 GMT+0200</td>\n",
       "      <td>1.28992</td>\n",
       "      <td>1.30077</td>\n",
       "      <td>1.28886</td>\n",
       "      <td>1.29886</td>\n",
       "      <td>2.482676e+05</td>\n",
       "      <td>2</td>\n",
       "      <td>1.0</td>\n",
       "      <td>0</td>\n",
       "    </tr>\n",
       "    <tr>\n",
       "      <th>2624</th>\n",
       "      <td>16.04.2013 00:00:00.000 GMT+0300</td>\n",
       "      <td>1.30351</td>\n",
       "      <td>1.32020</td>\n",
       "      <td>1.30298</td>\n",
       "      <td>1.31781</td>\n",
       "      <td>2.836193e+05</td>\n",
       "      <td>2</td>\n",
       "      <td>1.0</td>\n",
       "      <td>0</td>\n",
       "    </tr>\n",
       "    <tr>\n",
       "      <th>3082</th>\n",
       "      <td>09.01.2015 00:00:00.000 GMT+0200</td>\n",
       "      <td>1.17929</td>\n",
       "      <td>1.18464</td>\n",
       "      <td>1.17630</td>\n",
       "      <td>1.18425</td>\n",
       "      <td>1.665926e+05</td>\n",
       "      <td>2</td>\n",
       "      <td>1.0</td>\n",
       "      <td>0</td>\n",
       "    </tr>\n",
       "    <tr>\n",
       "      <th>3204</th>\n",
       "      <td>29.06.2015 00:00:00.000 GMT+0300</td>\n",
       "      <td>1.10073</td>\n",
       "      <td>1.12786</td>\n",
       "      <td>1.09550</td>\n",
       "      <td>1.12362</td>\n",
       "      <td>2.400577e+05</td>\n",
       "      <td>2</td>\n",
       "      <td>0.0</td>\n",
       "      <td>0</td>\n",
       "    </tr>\n",
       "    <tr>\n",
       "      <th>3213</th>\n",
       "      <td>10.07.2015 00:00:00.000 GMT+0300</td>\n",
       "      <td>1.10377</td>\n",
       "      <td>1.12164</td>\n",
       "      <td>1.10322</td>\n",
       "      <td>1.11584</td>\n",
       "      <td>2.122633e+05</td>\n",
       "      <td>2</td>\n",
       "      <td>1.0</td>\n",
       "      <td>0</td>\n",
       "    </tr>\n",
       "    <tr>\n",
       "      <th>3228</th>\n",
       "      <td>31.07.2015 00:00:00.000 GMT+0300</td>\n",
       "      <td>1.09335</td>\n",
       "      <td>1.11144</td>\n",
       "      <td>1.09213</td>\n",
       "      <td>1.09861</td>\n",
       "      <td>1.927528e+05</td>\n",
       "      <td>2</td>\n",
       "      <td>1.0</td>\n",
       "      <td>0</td>\n",
       "    </tr>\n",
       "    <tr>\n",
       "      <th>3707</th>\n",
       "      <td>02.06.2017 00:00:00.000 GMT+0300</td>\n",
       "      <td>1.12130</td>\n",
       "      <td>1.12852</td>\n",
       "      <td>1.12052</td>\n",
       "      <td>1.12851</td>\n",
       "      <td>1.691527e+05</td>\n",
       "      <td>2</td>\n",
       "      <td>0.0</td>\n",
       "      <td>0</td>\n",
       "    </tr>\n",
       "    <tr>\n",
       "      <th>3860</th>\n",
       "      <td>04.01.2018 00:00:00.000 GMT+0200</td>\n",
       "      <td>1.20146</td>\n",
       "      <td>1.20890</td>\n",
       "      <td>1.20046</td>\n",
       "      <td>1.20685</td>\n",
       "      <td>2.100527e+05</td>\n",
       "      <td>2</td>\n",
       "      <td>1.0</td>\n",
       "      <td>0</td>\n",
       "    </tr>\n",
       "    <tr>\n",
       "      <th>4034</th>\n",
       "      <td>05.09.2018 00:00:00.000 GMT+0300</td>\n",
       "      <td>1.15828</td>\n",
       "      <td>1.16401</td>\n",
       "      <td>1.15430</td>\n",
       "      <td>1.16303</td>\n",
       "      <td>2.581394e+05</td>\n",
       "      <td>2</td>\n",
       "      <td>1.0</td>\n",
       "      <td>0</td>\n",
       "    </tr>\n",
       "    <tr>\n",
       "      <th>4148</th>\n",
       "      <td>12.02.2019 00:00:00.000 GMT+0200</td>\n",
       "      <td>1.12763</td>\n",
       "      <td>1.13398</td>\n",
       "      <td>1.12579</td>\n",
       "      <td>1.13259</td>\n",
       "      <td>4.096074e+05</td>\n",
       "      <td>2</td>\n",
       "      <td>1.0</td>\n",
       "      <td>0</td>\n",
       "    </tr>\n",
       "  </tbody>\n",
       "</table>\n",
       "</div>"
      ],
      "text/plain": [
       "                            Local time     open     high      low    close  \\\n",
       "224   11.03.2004 00:00:00.000 GMT+0200  1.22216  1.23841  1.21627  1.23504   \n",
       "417   03.12.2004 00:00:00.000 GMT+0200  1.32682  1.34604  1.32513  1.34505   \n",
       "675   28.11.2005 00:00:00.000 GMT+0200  1.17096  1.19015  1.16806  1.18475   \n",
       "1049  27.04.2007 00:00:00.000 GMT+0300  1.36020  1.36830  1.35860  1.36540   \n",
       "1609  11.06.2009 00:00:00.000 GMT+0300  1.39863  1.41730  1.39440  1.41095   \n",
       "1689  30.09.2009 00:00:00.000 GMT+0300  1.45867  1.46739  1.45734  1.46376   \n",
       "2133  07.06.2011 00:00:00.000 GMT+0300  1.45766  1.46964  1.45646  1.46923   \n",
       "2174  03.08.2011 00:00:00.000 GMT+0300  1.42040  1.43448  1.41460  1.43243   \n",
       "2215  29.09.2011 00:00:00.000 GMT+0300  1.35433  1.36784  1.35205  1.35985   \n",
       "2244  08.11.2011 00:00:00.000 GMT+0200  1.37771  1.38480  1.37252  1.38339   \n",
       "2292  12.01.2012 00:00:00.000 GMT+0200  1.27072  1.28452  1.26999  1.28151   \n",
       "2607  21.03.2013 23:00:00.000 GMT+0200  1.28992  1.30077  1.28886  1.29886   \n",
       "2624  16.04.2013 00:00:00.000 GMT+0300  1.30351  1.32020  1.30298  1.31781   \n",
       "3082  09.01.2015 00:00:00.000 GMT+0200  1.17929  1.18464  1.17630  1.18425   \n",
       "3204  29.06.2015 00:00:00.000 GMT+0300  1.10073  1.12786  1.09550  1.12362   \n",
       "3213  10.07.2015 00:00:00.000 GMT+0300  1.10377  1.12164  1.10322  1.11584   \n",
       "3228  31.07.2015 00:00:00.000 GMT+0300  1.09335  1.11144  1.09213  1.09861   \n",
       "3707  02.06.2017 00:00:00.000 GMT+0300  1.12130  1.12852  1.12052  1.12851   \n",
       "3860  04.01.2018 00:00:00.000 GMT+0200  1.20146  1.20890  1.20046  1.20685   \n",
       "4034  05.09.2018 00:00:00.000 GMT+0300  1.15828  1.16401  1.15430  1.16303   \n",
       "4148  12.02.2019 00:00:00.000 GMT+0200  1.12763  1.13398  1.12579  1.13259   \n",
       "\n",
       "            volume  signal1  Trend  result  \n",
       "224   1.129471e+06        2    1.0       0  \n",
       "417   1.100705e+06        2    1.0       0  \n",
       "675   1.080417e+06        2    0.0       0  \n",
       "1049  1.024237e+06        2    1.0       0  \n",
       "1609  5.543684e+05        2    1.0       0  \n",
       "1689  7.987590e+04        2    1.0       0  \n",
       "2133  2.083190e+05        2    1.0       0  \n",
       "2174  3.184016e+05        2    1.0       0  \n",
       "2215  2.839137e+05        2    1.0       0  \n",
       "2244  2.502527e+05        2    1.0       0  \n",
       "2292  3.078163e+05        2    1.0       0  \n",
       "2607  2.482676e+05        2    1.0       0  \n",
       "2624  2.836193e+05        2    1.0       0  \n",
       "3082  1.665926e+05        2    1.0       0  \n",
       "3204  2.400577e+05        2    0.0       0  \n",
       "3213  2.122633e+05        2    1.0       0  \n",
       "3228  1.927528e+05        2    1.0       0  \n",
       "3707  1.691527e+05        2    0.0       0  \n",
       "3860  2.100527e+05        2    1.0       0  \n",
       "4034  2.581394e+05        2    1.0       0  \n",
       "4148  4.096074e+05        2    1.0       0  "
      ]
     },
     "execution_count": 50,
     "metadata": {},
     "output_type": "execute_result"
    }
   ],
   "source": [
    "import numpy as np\n",
    "conditions = [(df['Trend'] == 1) & (df['signal1'] == 1),(df['Trend'] == 2) & (df['signal1'] == 2)]\n",
    "values = [1, 2]\n",
    "df['result'] = np.select(conditions, values)\n",
    "\n",
    "trendId=2\n",
    "print(df[df['result']==trendId].result.count()/df[df['signal1']==trendId].signal1.count())\n",
    "df[ (df['Trend']!=trendId) & (df['signal1']==trendId) ] # false positives"
   ]
  },
  {
   "cell_type": "code",
   "execution_count": 25,
   "metadata": {},
   "outputs": [
    {
     "data": {
      "application/vnd.plotly.v1+json": {
       "config": {
        "plotlyServerURL": "https://plot.ly"
       },
       "data": [
        {
         "close": [
          1.2887899999999999,
          1.2905200000000001,
          1.29738,
          1.29456,
          1.29544,
          1.30361,
          1.2959,
          1.30225,
          1.3048,
          1.30873,
          1.31833,
          1.32713,
          1.32952,
          1.32796,
          1.32781,
          1.33427,
          1.3269,
          1.34505,
          1.34057,
          1.3417700000000001,
          1.33344,
          1.33093,
          1.3224,
          1.3309600000000001,
          1.32959,
          1.33904,
          1.3240399999999999,
          1.33075,
          1.33935,
          1.3372700000000002,
          1.3389799999999998,
          1.35143,
          1.3531600000000001,
          1.3615700000000002,
          1.36038,
          1.3605200000000002,
          1.36345,
          1.35537,
          1.34645,
          1.3278,
          1.32616,
          1.31718,
          1.30515,
          1.30732,
          1.3105799999999999,
          1.32541,
          1.32212,
          1.31104,
          1.30674,
          1.3020200000000002
         ],
         "high": [
          1.3002799999999999,
          1.29196,
          1.29881,
          1.2998399999999999,
          1.2993,
          1.3046200000000001,
          1.30732,
          1.30672,
          1.3051700000000002,
          1.3101399999999999,
          1.3188799999999998,
          1.3280100000000001,
          1.3328799999999998,
          1.33038,
          1.33311,
          1.33559,
          1.33816,
          1.34604,
          1.34555,
          1.34691,
          1.34324,
          1.33617,
          1.33182,
          1.33259,
          1.33314,
          1.3443,
          1.3428,
          1.3316,
          1.34083,
          1.34074,
          1.3404,
          1.35159,
          1.35475,
          1.36384,
          1.36429,
          1.36468,
          1.36653,
          1.3659299999999999,
          1.3579700000000001,
          1.34941,
          1.33016,
          1.3281100000000001,
          1.32489,
          1.31209,
          1.3171,
          1.32925,
          1.32653,
          1.32233,
          1.3127,
          1.30731
         ],
         "low": [
          1.28508,
          1.28589,
          1.2876100000000001,
          1.29165,
          1.29179,
          1.2949700000000002,
          1.29408,
          1.29385,
          1.3013299999999999,
          1.29768,
          1.30792,
          1.31618,
          1.3185799999999999,
          1.32292,
          1.32312,
          1.32749,
          1.3237299999999999,
          1.32513,
          1.33899,
          1.3387200000000001,
          1.31944,
          1.32513,
          1.3140399999999999,
          1.31883,
          1.32589,
          1.32608,
          1.31931,
          1.3227,
          1.32959,
          1.33379,
          1.3342100000000001,
          1.33798,
          1.3483399999999999,
          1.3512,
          1.35774,
          1.3556700000000002,
          1.3574,
          1.3504200000000002,
          1.33871,
          1.3250899999999999,
          1.3216,
          1.31551,
          1.30244,
          1.3048600000000001,
          1.30669,
          1.30826,
          1.31932,
          1.30566,
          1.30589,
          1.29948
         ],
         "open": [
          1.28988,
          1.28896,
          1.29063,
          1.29719,
          1.29473,
          1.2955,
          1.30331,
          1.29607,
          1.3037299999999998,
          1.30482,
          1.3087,
          1.3187,
          1.3262,
          1.32679,
          1.32788,
          1.32796,
          1.3342100000000001,
          1.32682,
          1.34422,
          1.3406200000000001,
          1.34181,
          1.3337299999999999,
          1.3309,
          1.31928,
          1.33112,
          1.32955,
          1.3393,
          1.32423,
          1.3328799999999998,
          1.33943,
          1.33707,
          1.33891,
          1.35131,
          1.3529,
          1.3615,
          1.36112,
          1.36065,
          1.3634600000000001,
          1.3548,
          1.34648,
          1.32776,
          1.32613,
          1.31708,
          1.30589,
          1.30736,
          1.31053,
          1.32531,
          1.3222200000000002,
          1.31015,
          1.30644
         ],
         "type": "candlestick",
         "x": [
          400,
          401,
          402,
          403,
          404,
          405,
          406,
          407,
          408,
          409,
          410,
          411,
          412,
          413,
          414,
          415,
          416,
          417,
          418,
          419,
          420,
          421,
          422,
          423,
          424,
          425,
          426,
          427,
          428,
          429,
          430,
          431,
          432,
          433,
          434,
          435,
          436,
          437,
          438,
          439,
          440,
          441,
          442,
          443,
          444,
          445,
          446,
          447,
          448,
          449
         ]
        }
       ],
       "layout": {
        "template": {
         "data": {
          "bar": [
           {
            "error_x": {
             "color": "#2a3f5f"
            },
            "error_y": {
             "color": "#2a3f5f"
            },
            "marker": {
             "line": {
              "color": "#E5ECF6",
              "width": 0.5
             }
            },
            "type": "bar"
           }
          ],
          "barpolar": [
           {
            "marker": {
             "line": {
              "color": "#E5ECF6",
              "width": 0.5
             }
            },
            "type": "barpolar"
           }
          ],
          "carpet": [
           {
            "aaxis": {
             "endlinecolor": "#2a3f5f",
             "gridcolor": "white",
             "linecolor": "white",
             "minorgridcolor": "white",
             "startlinecolor": "#2a3f5f"
            },
            "baxis": {
             "endlinecolor": "#2a3f5f",
             "gridcolor": "white",
             "linecolor": "white",
             "minorgridcolor": "white",
             "startlinecolor": "#2a3f5f"
            },
            "type": "carpet"
           }
          ],
          "choropleth": [
           {
            "colorbar": {
             "outlinewidth": 0,
             "ticks": ""
            },
            "type": "choropleth"
           }
          ],
          "contour": [
           {
            "colorbar": {
             "outlinewidth": 0,
             "ticks": ""
            },
            "colorscale": [
             [
              0,
              "#0d0887"
             ],
             [
              0.1111111111111111,
              "#46039f"
             ],
             [
              0.2222222222222222,
              "#7201a8"
             ],
             [
              0.3333333333333333,
              "#9c179e"
             ],
             [
              0.4444444444444444,
              "#bd3786"
             ],
             [
              0.5555555555555556,
              "#d8576b"
             ],
             [
              0.6666666666666666,
              "#ed7953"
             ],
             [
              0.7777777777777778,
              "#fb9f3a"
             ],
             [
              0.8888888888888888,
              "#fdca26"
             ],
             [
              1,
              "#f0f921"
             ]
            ],
            "type": "contour"
           }
          ],
          "contourcarpet": [
           {
            "colorbar": {
             "outlinewidth": 0,
             "ticks": ""
            },
            "type": "contourcarpet"
           }
          ],
          "heatmap": [
           {
            "colorbar": {
             "outlinewidth": 0,
             "ticks": ""
            },
            "colorscale": [
             [
              0,
              "#0d0887"
             ],
             [
              0.1111111111111111,
              "#46039f"
             ],
             [
              0.2222222222222222,
              "#7201a8"
             ],
             [
              0.3333333333333333,
              "#9c179e"
             ],
             [
              0.4444444444444444,
              "#bd3786"
             ],
             [
              0.5555555555555556,
              "#d8576b"
             ],
             [
              0.6666666666666666,
              "#ed7953"
             ],
             [
              0.7777777777777778,
              "#fb9f3a"
             ],
             [
              0.8888888888888888,
              "#fdca26"
             ],
             [
              1,
              "#f0f921"
             ]
            ],
            "type": "heatmap"
           }
          ],
          "heatmapgl": [
           {
            "colorbar": {
             "outlinewidth": 0,
             "ticks": ""
            },
            "colorscale": [
             [
              0,
              "#0d0887"
             ],
             [
              0.1111111111111111,
              "#46039f"
             ],
             [
              0.2222222222222222,
              "#7201a8"
             ],
             [
              0.3333333333333333,
              "#9c179e"
             ],
             [
              0.4444444444444444,
              "#bd3786"
             ],
             [
              0.5555555555555556,
              "#d8576b"
             ],
             [
              0.6666666666666666,
              "#ed7953"
             ],
             [
              0.7777777777777778,
              "#fb9f3a"
             ],
             [
              0.8888888888888888,
              "#fdca26"
             ],
             [
              1,
              "#f0f921"
             ]
            ],
            "type": "heatmapgl"
           }
          ],
          "histogram": [
           {
            "marker": {
             "colorbar": {
              "outlinewidth": 0,
              "ticks": ""
             }
            },
            "type": "histogram"
           }
          ],
          "histogram2d": [
           {
            "colorbar": {
             "outlinewidth": 0,
             "ticks": ""
            },
            "colorscale": [
             [
              0,
              "#0d0887"
             ],
             [
              0.1111111111111111,
              "#46039f"
             ],
             [
              0.2222222222222222,
              "#7201a8"
             ],
             [
              0.3333333333333333,
              "#9c179e"
             ],
             [
              0.4444444444444444,
              "#bd3786"
             ],
             [
              0.5555555555555556,
              "#d8576b"
             ],
             [
              0.6666666666666666,
              "#ed7953"
             ],
             [
              0.7777777777777778,
              "#fb9f3a"
             ],
             [
              0.8888888888888888,
              "#fdca26"
             ],
             [
              1,
              "#f0f921"
             ]
            ],
            "type": "histogram2d"
           }
          ],
          "histogram2dcontour": [
           {
            "colorbar": {
             "outlinewidth": 0,
             "ticks": ""
            },
            "colorscale": [
             [
              0,
              "#0d0887"
             ],
             [
              0.1111111111111111,
              "#46039f"
             ],
             [
              0.2222222222222222,
              "#7201a8"
             ],
             [
              0.3333333333333333,
              "#9c179e"
             ],
             [
              0.4444444444444444,
              "#bd3786"
             ],
             [
              0.5555555555555556,
              "#d8576b"
             ],
             [
              0.6666666666666666,
              "#ed7953"
             ],
             [
              0.7777777777777778,
              "#fb9f3a"
             ],
             [
              0.8888888888888888,
              "#fdca26"
             ],
             [
              1,
              "#f0f921"
             ]
            ],
            "type": "histogram2dcontour"
           }
          ],
          "mesh3d": [
           {
            "colorbar": {
             "outlinewidth": 0,
             "ticks": ""
            },
            "type": "mesh3d"
           }
          ],
          "parcoords": [
           {
            "line": {
             "colorbar": {
              "outlinewidth": 0,
              "ticks": ""
             }
            },
            "type": "parcoords"
           }
          ],
          "pie": [
           {
            "automargin": true,
            "type": "pie"
           }
          ],
          "scatter": [
           {
            "marker": {
             "colorbar": {
              "outlinewidth": 0,
              "ticks": ""
             }
            },
            "type": "scatter"
           }
          ],
          "scatter3d": [
           {
            "line": {
             "colorbar": {
              "outlinewidth": 0,
              "ticks": ""
             }
            },
            "marker": {
             "colorbar": {
              "outlinewidth": 0,
              "ticks": ""
             }
            },
            "type": "scatter3d"
           }
          ],
          "scattercarpet": [
           {
            "marker": {
             "colorbar": {
              "outlinewidth": 0,
              "ticks": ""
             }
            },
            "type": "scattercarpet"
           }
          ],
          "scattergeo": [
           {
            "marker": {
             "colorbar": {
              "outlinewidth": 0,
              "ticks": ""
             }
            },
            "type": "scattergeo"
           }
          ],
          "scattergl": [
           {
            "marker": {
             "colorbar": {
              "outlinewidth": 0,
              "ticks": ""
             }
            },
            "type": "scattergl"
           }
          ],
          "scattermapbox": [
           {
            "marker": {
             "colorbar": {
              "outlinewidth": 0,
              "ticks": ""
             }
            },
            "type": "scattermapbox"
           }
          ],
          "scatterpolar": [
           {
            "marker": {
             "colorbar": {
              "outlinewidth": 0,
              "ticks": ""
             }
            },
            "type": "scatterpolar"
           }
          ],
          "scatterpolargl": [
           {
            "marker": {
             "colorbar": {
              "outlinewidth": 0,
              "ticks": ""
             }
            },
            "type": "scatterpolargl"
           }
          ],
          "scatterternary": [
           {
            "marker": {
             "colorbar": {
              "outlinewidth": 0,
              "ticks": ""
             }
            },
            "type": "scatterternary"
           }
          ],
          "surface": [
           {
            "colorbar": {
             "outlinewidth": 0,
             "ticks": ""
            },
            "colorscale": [
             [
              0,
              "#0d0887"
             ],
             [
              0.1111111111111111,
              "#46039f"
             ],
             [
              0.2222222222222222,
              "#7201a8"
             ],
             [
              0.3333333333333333,
              "#9c179e"
             ],
             [
              0.4444444444444444,
              "#bd3786"
             ],
             [
              0.5555555555555556,
              "#d8576b"
             ],
             [
              0.6666666666666666,
              "#ed7953"
             ],
             [
              0.7777777777777778,
              "#fb9f3a"
             ],
             [
              0.8888888888888888,
              "#fdca26"
             ],
             [
              1,
              "#f0f921"
             ]
            ],
            "type": "surface"
           }
          ],
          "table": [
           {
            "cells": {
             "fill": {
              "color": "#EBF0F8"
             },
             "line": {
              "color": "white"
             }
            },
            "header": {
             "fill": {
              "color": "#C8D4E3"
             },
             "line": {
              "color": "white"
             }
            },
            "type": "table"
           }
          ]
         },
         "layout": {
          "annotationdefaults": {
           "arrowcolor": "#2a3f5f",
           "arrowhead": 0,
           "arrowwidth": 1
          },
          "coloraxis": {
           "colorbar": {
            "outlinewidth": 0,
            "ticks": ""
           }
          },
          "colorscale": {
           "diverging": [
            [
             0,
             "#8e0152"
            ],
            [
             0.1,
             "#c51b7d"
            ],
            [
             0.2,
             "#de77ae"
            ],
            [
             0.3,
             "#f1b6da"
            ],
            [
             0.4,
             "#fde0ef"
            ],
            [
             0.5,
             "#f7f7f7"
            ],
            [
             0.6,
             "#e6f5d0"
            ],
            [
             0.7,
             "#b8e186"
            ],
            [
             0.8,
             "#7fbc41"
            ],
            [
             0.9,
             "#4d9221"
            ],
            [
             1,
             "#276419"
            ]
           ],
           "sequential": [
            [
             0,
             "#0d0887"
            ],
            [
             0.1111111111111111,
             "#46039f"
            ],
            [
             0.2222222222222222,
             "#7201a8"
            ],
            [
             0.3333333333333333,
             "#9c179e"
            ],
            [
             0.4444444444444444,
             "#bd3786"
            ],
            [
             0.5555555555555556,
             "#d8576b"
            ],
            [
             0.6666666666666666,
             "#ed7953"
            ],
            [
             0.7777777777777778,
             "#fb9f3a"
            ],
            [
             0.8888888888888888,
             "#fdca26"
            ],
            [
             1,
             "#f0f921"
            ]
           ],
           "sequentialminus": [
            [
             0,
             "#0d0887"
            ],
            [
             0.1111111111111111,
             "#46039f"
            ],
            [
             0.2222222222222222,
             "#7201a8"
            ],
            [
             0.3333333333333333,
             "#9c179e"
            ],
            [
             0.4444444444444444,
             "#bd3786"
            ],
            [
             0.5555555555555556,
             "#d8576b"
            ],
            [
             0.6666666666666666,
             "#ed7953"
            ],
            [
             0.7777777777777778,
             "#fb9f3a"
            ],
            [
             0.8888888888888888,
             "#fdca26"
            ],
            [
             1,
             "#f0f921"
            ]
           ]
          },
          "colorway": [
           "#636efa",
           "#EF553B",
           "#00cc96",
           "#ab63fa",
           "#FFA15A",
           "#19d3f3",
           "#FF6692",
           "#B6E880",
           "#FF97FF",
           "#FECB52"
          ],
          "font": {
           "color": "#2a3f5f"
          },
          "geo": {
           "bgcolor": "white",
           "lakecolor": "white",
           "landcolor": "#E5ECF6",
           "showlakes": true,
           "showland": true,
           "subunitcolor": "white"
          },
          "hoverlabel": {
           "align": "left"
          },
          "hovermode": "closest",
          "mapbox": {
           "style": "light"
          },
          "paper_bgcolor": "white",
          "plot_bgcolor": "#E5ECF6",
          "polar": {
           "angularaxis": {
            "gridcolor": "white",
            "linecolor": "white",
            "ticks": ""
           },
           "bgcolor": "#E5ECF6",
           "radialaxis": {
            "gridcolor": "white",
            "linecolor": "white",
            "ticks": ""
           }
          },
          "scene": {
           "xaxis": {
            "backgroundcolor": "#E5ECF6",
            "gridcolor": "white",
            "gridwidth": 2,
            "linecolor": "white",
            "showbackground": true,
            "ticks": "",
            "zerolinecolor": "white"
           },
           "yaxis": {
            "backgroundcolor": "#E5ECF6",
            "gridcolor": "white",
            "gridwidth": 2,
            "linecolor": "white",
            "showbackground": true,
            "ticks": "",
            "zerolinecolor": "white"
           },
           "zaxis": {
            "backgroundcolor": "#E5ECF6",
            "gridcolor": "white",
            "gridwidth": 2,
            "linecolor": "white",
            "showbackground": true,
            "ticks": "",
            "zerolinecolor": "white"
           }
          },
          "shapedefaults": {
           "line": {
            "color": "#2a3f5f"
           }
          },
          "ternary": {
           "aaxis": {
            "gridcolor": "white",
            "linecolor": "white",
            "ticks": ""
           },
           "baxis": {
            "gridcolor": "white",
            "linecolor": "white",
            "ticks": ""
           },
           "bgcolor": "#E5ECF6",
           "caxis": {
            "gridcolor": "white",
            "linecolor": "white",
            "ticks": ""
           }
          },
          "title": {
           "x": 0.05
          },
          "xaxis": {
           "automargin": true,
           "gridcolor": "white",
           "linecolor": "white",
           "ticks": "",
           "title": {
            "standoff": 15
           },
           "zerolinecolor": "white",
           "zerolinewidth": 2
          },
          "yaxis": {
           "automargin": true,
           "gridcolor": "white",
           "linecolor": "white",
           "ticks": "",
           "title": {
            "standoff": 15
           },
           "zerolinecolor": "white",
           "zerolinewidth": 2
          }
         }
        }
       }
      },
      "text/html": [
       "<div>\n",
       "        \n",
       "        \n",
       "            <div id=\"48fb236f-5d33-400e-9f68-7e5b5be1ebfb\" class=\"plotly-graph-div\" style=\"height:525px; width:100%;\"></div>\n",
       "            <script type=\"text/javascript\">\n",
       "                require([\"plotly\"], function(Plotly) {\n",
       "                    window.PLOTLYENV=window.PLOTLYENV || {};\n",
       "                    \n",
       "                if (document.getElementById(\"48fb236f-5d33-400e-9f68-7e5b5be1ebfb\")) {\n",
       "                    Plotly.newPlot(\n",
       "                        '48fb236f-5d33-400e-9f68-7e5b5be1ebfb',\n",
       "                        [{\"close\": [1.2887899999999999, 1.2905200000000001, 1.29738, 1.29456, 1.29544, 1.30361, 1.2959, 1.30225, 1.3048, 1.30873, 1.31833, 1.32713, 1.32952, 1.32796, 1.32781, 1.33427, 1.3269, 1.34505, 1.34057, 1.3417700000000001, 1.33344, 1.33093, 1.3224, 1.3309600000000001, 1.32959, 1.33904, 1.3240399999999999, 1.33075, 1.33935, 1.3372700000000002, 1.3389799999999998, 1.35143, 1.3531600000000001, 1.3615700000000002, 1.36038, 1.3605200000000002, 1.36345, 1.35537, 1.34645, 1.3278, 1.32616, 1.31718, 1.30515, 1.30732, 1.3105799999999999, 1.32541, 1.32212, 1.31104, 1.30674, 1.3020200000000002], \"high\": [1.3002799999999999, 1.29196, 1.29881, 1.2998399999999999, 1.2993, 1.3046200000000001, 1.30732, 1.30672, 1.3051700000000002, 1.3101399999999999, 1.3188799999999998, 1.3280100000000001, 1.3328799999999998, 1.33038, 1.33311, 1.33559, 1.33816, 1.34604, 1.34555, 1.34691, 1.34324, 1.33617, 1.33182, 1.33259, 1.33314, 1.3443, 1.3428, 1.3316, 1.34083, 1.34074, 1.3404, 1.35159, 1.35475, 1.36384, 1.36429, 1.36468, 1.36653, 1.3659299999999999, 1.3579700000000001, 1.34941, 1.33016, 1.3281100000000001, 1.32489, 1.31209, 1.3171, 1.32925, 1.32653, 1.32233, 1.3127, 1.30731], \"low\": [1.28508, 1.28589, 1.2876100000000001, 1.29165, 1.29179, 1.2949700000000002, 1.29408, 1.29385, 1.3013299999999999, 1.29768, 1.30792, 1.31618, 1.3185799999999999, 1.32292, 1.32312, 1.32749, 1.3237299999999999, 1.32513, 1.33899, 1.3387200000000001, 1.31944, 1.32513, 1.3140399999999999, 1.31883, 1.32589, 1.32608, 1.31931, 1.3227, 1.32959, 1.33379, 1.3342100000000001, 1.33798, 1.3483399999999999, 1.3512, 1.35774, 1.3556700000000002, 1.3574, 1.3504200000000002, 1.33871, 1.3250899999999999, 1.3216, 1.31551, 1.30244, 1.3048600000000001, 1.30669, 1.30826, 1.31932, 1.30566, 1.30589, 1.29948], \"open\": [1.28988, 1.28896, 1.29063, 1.29719, 1.29473, 1.2955, 1.30331, 1.29607, 1.3037299999999998, 1.30482, 1.3087, 1.3187, 1.3262, 1.32679, 1.32788, 1.32796, 1.3342100000000001, 1.32682, 1.34422, 1.3406200000000001, 1.34181, 1.3337299999999999, 1.3309, 1.31928, 1.33112, 1.32955, 1.3393, 1.32423, 1.3328799999999998, 1.33943, 1.33707, 1.33891, 1.35131, 1.3529, 1.3615, 1.36112, 1.36065, 1.3634600000000001, 1.3548, 1.34648, 1.32776, 1.32613, 1.31708, 1.30589, 1.30736, 1.31053, 1.32531, 1.3222200000000002, 1.31015, 1.30644], \"type\": \"candlestick\", \"x\": [400, 401, 402, 403, 404, 405, 406, 407, 408, 409, 410, 411, 412, 413, 414, 415, 416, 417, 418, 419, 420, 421, 422, 423, 424, 425, 426, 427, 428, 429, 430, 431, 432, 433, 434, 435, 436, 437, 438, 439, 440, 441, 442, 443, 444, 445, 446, 447, 448, 449]}],\n",
       "                        {\"template\": {\"data\": {\"bar\": [{\"error_x\": {\"color\": \"#2a3f5f\"}, \"error_y\": {\"color\": \"#2a3f5f\"}, \"marker\": {\"line\": {\"color\": \"#E5ECF6\", \"width\": 0.5}}, \"type\": \"bar\"}], \"barpolar\": [{\"marker\": {\"line\": {\"color\": \"#E5ECF6\", \"width\": 0.5}}, \"type\": \"barpolar\"}], \"carpet\": [{\"aaxis\": {\"endlinecolor\": \"#2a3f5f\", \"gridcolor\": \"white\", \"linecolor\": \"white\", \"minorgridcolor\": \"white\", \"startlinecolor\": \"#2a3f5f\"}, \"baxis\": {\"endlinecolor\": \"#2a3f5f\", \"gridcolor\": \"white\", \"linecolor\": \"white\", \"minorgridcolor\": \"white\", \"startlinecolor\": \"#2a3f5f\"}, \"type\": \"carpet\"}], \"choropleth\": [{\"colorbar\": {\"outlinewidth\": 0, \"ticks\": \"\"}, \"type\": \"choropleth\"}], \"contour\": [{\"colorbar\": {\"outlinewidth\": 0, \"ticks\": \"\"}, \"colorscale\": [[0.0, \"#0d0887\"], [0.1111111111111111, \"#46039f\"], [0.2222222222222222, \"#7201a8\"], [0.3333333333333333, \"#9c179e\"], [0.4444444444444444, \"#bd3786\"], [0.5555555555555556, \"#d8576b\"], [0.6666666666666666, \"#ed7953\"], [0.7777777777777778, \"#fb9f3a\"], [0.8888888888888888, \"#fdca26\"], [1.0, \"#f0f921\"]], \"type\": \"contour\"}], \"contourcarpet\": [{\"colorbar\": {\"outlinewidth\": 0, \"ticks\": \"\"}, \"type\": \"contourcarpet\"}], \"heatmap\": [{\"colorbar\": {\"outlinewidth\": 0, \"ticks\": \"\"}, \"colorscale\": [[0.0, \"#0d0887\"], [0.1111111111111111, \"#46039f\"], [0.2222222222222222, \"#7201a8\"], [0.3333333333333333, \"#9c179e\"], [0.4444444444444444, \"#bd3786\"], [0.5555555555555556, \"#d8576b\"], [0.6666666666666666, \"#ed7953\"], [0.7777777777777778, \"#fb9f3a\"], [0.8888888888888888, \"#fdca26\"], [1.0, \"#f0f921\"]], \"type\": \"heatmap\"}], \"heatmapgl\": [{\"colorbar\": {\"outlinewidth\": 0, \"ticks\": \"\"}, \"colorscale\": [[0.0, \"#0d0887\"], [0.1111111111111111, \"#46039f\"], [0.2222222222222222, \"#7201a8\"], [0.3333333333333333, \"#9c179e\"], [0.4444444444444444, \"#bd3786\"], [0.5555555555555556, \"#d8576b\"], [0.6666666666666666, \"#ed7953\"], [0.7777777777777778, \"#fb9f3a\"], [0.8888888888888888, \"#fdca26\"], [1.0, \"#f0f921\"]], \"type\": \"heatmapgl\"}], \"histogram\": [{\"marker\": {\"colorbar\": {\"outlinewidth\": 0, \"ticks\": \"\"}}, \"type\": \"histogram\"}], \"histogram2d\": [{\"colorbar\": {\"outlinewidth\": 0, \"ticks\": \"\"}, \"colorscale\": [[0.0, \"#0d0887\"], [0.1111111111111111, \"#46039f\"], [0.2222222222222222, \"#7201a8\"], [0.3333333333333333, \"#9c179e\"], [0.4444444444444444, \"#bd3786\"], [0.5555555555555556, \"#d8576b\"], [0.6666666666666666, \"#ed7953\"], [0.7777777777777778, \"#fb9f3a\"], [0.8888888888888888, \"#fdca26\"], [1.0, \"#f0f921\"]], \"type\": \"histogram2d\"}], \"histogram2dcontour\": [{\"colorbar\": {\"outlinewidth\": 0, \"ticks\": \"\"}, \"colorscale\": [[0.0, \"#0d0887\"], [0.1111111111111111, \"#46039f\"], [0.2222222222222222, \"#7201a8\"], [0.3333333333333333, \"#9c179e\"], [0.4444444444444444, \"#bd3786\"], [0.5555555555555556, \"#d8576b\"], [0.6666666666666666, \"#ed7953\"], [0.7777777777777778, \"#fb9f3a\"], [0.8888888888888888, \"#fdca26\"], [1.0, \"#f0f921\"]], \"type\": \"histogram2dcontour\"}], \"mesh3d\": [{\"colorbar\": {\"outlinewidth\": 0, \"ticks\": \"\"}, \"type\": \"mesh3d\"}], \"parcoords\": [{\"line\": {\"colorbar\": {\"outlinewidth\": 0, \"ticks\": \"\"}}, \"type\": \"parcoords\"}], \"pie\": [{\"automargin\": true, \"type\": \"pie\"}], \"scatter\": [{\"marker\": {\"colorbar\": {\"outlinewidth\": 0, \"ticks\": \"\"}}, \"type\": \"scatter\"}], \"scatter3d\": [{\"line\": {\"colorbar\": {\"outlinewidth\": 0, \"ticks\": \"\"}}, \"marker\": {\"colorbar\": {\"outlinewidth\": 0, \"ticks\": \"\"}}, \"type\": \"scatter3d\"}], \"scattercarpet\": [{\"marker\": {\"colorbar\": {\"outlinewidth\": 0, \"ticks\": \"\"}}, \"type\": \"scattercarpet\"}], \"scattergeo\": [{\"marker\": {\"colorbar\": {\"outlinewidth\": 0, \"ticks\": \"\"}}, \"type\": \"scattergeo\"}], \"scattergl\": [{\"marker\": {\"colorbar\": {\"outlinewidth\": 0, \"ticks\": \"\"}}, \"type\": \"scattergl\"}], \"scattermapbox\": [{\"marker\": {\"colorbar\": {\"outlinewidth\": 0, \"ticks\": \"\"}}, \"type\": \"scattermapbox\"}], \"scatterpolar\": [{\"marker\": {\"colorbar\": {\"outlinewidth\": 0, \"ticks\": \"\"}}, \"type\": \"scatterpolar\"}], \"scatterpolargl\": [{\"marker\": {\"colorbar\": {\"outlinewidth\": 0, \"ticks\": \"\"}}, \"type\": \"scatterpolargl\"}], \"scatterternary\": [{\"marker\": {\"colorbar\": {\"outlinewidth\": 0, \"ticks\": \"\"}}, \"type\": \"scatterternary\"}], \"surface\": [{\"colorbar\": {\"outlinewidth\": 0, \"ticks\": \"\"}, \"colorscale\": [[0.0, \"#0d0887\"], [0.1111111111111111, \"#46039f\"], [0.2222222222222222, \"#7201a8\"], [0.3333333333333333, \"#9c179e\"], [0.4444444444444444, \"#bd3786\"], [0.5555555555555556, \"#d8576b\"], [0.6666666666666666, \"#ed7953\"], [0.7777777777777778, \"#fb9f3a\"], [0.8888888888888888, \"#fdca26\"], [1.0, \"#f0f921\"]], \"type\": \"surface\"}], \"table\": [{\"cells\": {\"fill\": {\"color\": \"#EBF0F8\"}, \"line\": {\"color\": \"white\"}}, \"header\": {\"fill\": {\"color\": \"#C8D4E3\"}, \"line\": {\"color\": \"white\"}}, \"type\": \"table\"}]}, \"layout\": {\"annotationdefaults\": {\"arrowcolor\": \"#2a3f5f\", \"arrowhead\": 0, \"arrowwidth\": 1}, \"coloraxis\": {\"colorbar\": {\"outlinewidth\": 0, \"ticks\": \"\"}}, \"colorscale\": {\"diverging\": [[0, \"#8e0152\"], [0.1, \"#c51b7d\"], [0.2, \"#de77ae\"], [0.3, \"#f1b6da\"], [0.4, \"#fde0ef\"], [0.5, \"#f7f7f7\"], [0.6, \"#e6f5d0\"], [0.7, \"#b8e186\"], [0.8, \"#7fbc41\"], [0.9, \"#4d9221\"], [1, \"#276419\"]], \"sequential\": [[0.0, \"#0d0887\"], [0.1111111111111111, \"#46039f\"], [0.2222222222222222, \"#7201a8\"], [0.3333333333333333, \"#9c179e\"], [0.4444444444444444, \"#bd3786\"], [0.5555555555555556, \"#d8576b\"], [0.6666666666666666, \"#ed7953\"], [0.7777777777777778, \"#fb9f3a\"], [0.8888888888888888, \"#fdca26\"], [1.0, \"#f0f921\"]], \"sequentialminus\": [[0.0, \"#0d0887\"], [0.1111111111111111, \"#46039f\"], [0.2222222222222222, \"#7201a8\"], [0.3333333333333333, \"#9c179e\"], [0.4444444444444444, \"#bd3786\"], [0.5555555555555556, \"#d8576b\"], [0.6666666666666666, \"#ed7953\"], [0.7777777777777778, \"#fb9f3a\"], [0.8888888888888888, \"#fdca26\"], [1.0, \"#f0f921\"]]}, \"colorway\": [\"#636efa\", \"#EF553B\", \"#00cc96\", \"#ab63fa\", \"#FFA15A\", \"#19d3f3\", \"#FF6692\", \"#B6E880\", \"#FF97FF\", \"#FECB52\"], \"font\": {\"color\": \"#2a3f5f\"}, \"geo\": {\"bgcolor\": \"white\", \"lakecolor\": \"white\", \"landcolor\": \"#E5ECF6\", \"showlakes\": true, \"showland\": true, \"subunitcolor\": \"white\"}, \"hoverlabel\": {\"align\": \"left\"}, \"hovermode\": \"closest\", \"mapbox\": {\"style\": \"light\"}, \"paper_bgcolor\": \"white\", \"plot_bgcolor\": \"#E5ECF6\", \"polar\": {\"angularaxis\": {\"gridcolor\": \"white\", \"linecolor\": \"white\", \"ticks\": \"\"}, \"bgcolor\": \"#E5ECF6\", \"radialaxis\": {\"gridcolor\": \"white\", \"linecolor\": \"white\", \"ticks\": \"\"}}, \"scene\": {\"xaxis\": {\"backgroundcolor\": \"#E5ECF6\", \"gridcolor\": \"white\", \"gridwidth\": 2, \"linecolor\": \"white\", \"showbackground\": true, \"ticks\": \"\", \"zerolinecolor\": \"white\"}, \"yaxis\": {\"backgroundcolor\": \"#E5ECF6\", \"gridcolor\": \"white\", \"gridwidth\": 2, \"linecolor\": \"white\", \"showbackground\": true, \"ticks\": \"\", \"zerolinecolor\": \"white\"}, \"zaxis\": {\"backgroundcolor\": \"#E5ECF6\", \"gridcolor\": \"white\", \"gridwidth\": 2, \"linecolor\": \"white\", \"showbackground\": true, \"ticks\": \"\", \"zerolinecolor\": \"white\"}}, \"shapedefaults\": {\"line\": {\"color\": \"#2a3f5f\"}}, \"ternary\": {\"aaxis\": {\"gridcolor\": \"white\", \"linecolor\": \"white\", \"ticks\": \"\"}, \"baxis\": {\"gridcolor\": \"white\", \"linecolor\": \"white\", \"ticks\": \"\"}, \"bgcolor\": \"#E5ECF6\", \"caxis\": {\"gridcolor\": \"white\", \"linecolor\": \"white\", \"ticks\": \"\"}}, \"title\": {\"x\": 0.05}, \"xaxis\": {\"automargin\": true, \"gridcolor\": \"white\", \"linecolor\": \"white\", \"ticks\": \"\", \"title\": {\"standoff\": 15}, \"zerolinecolor\": \"white\", \"zerolinewidth\": 2}, \"yaxis\": {\"automargin\": true, \"gridcolor\": \"white\", \"linecolor\": \"white\", \"ticks\": \"\", \"title\": {\"standoff\": 15}, \"zerolinecolor\": \"white\", \"zerolinewidth\": 2}}}},\n",
       "                        {\"responsive\": true}\n",
       "                    ).then(function(){\n",
       "                            \n",
       "var gd = document.getElementById('48fb236f-5d33-400e-9f68-7e5b5be1ebfb');\n",
       "var x = new MutationObserver(function (mutations, observer) {{\n",
       "        var display = window.getComputedStyle(gd).display;\n",
       "        if (!display || display === 'none') {{\n",
       "            console.log([gd, 'removed!']);\n",
       "            Plotly.purge(gd);\n",
       "            observer.disconnect();\n",
       "        }}\n",
       "}});\n",
       "\n",
       "// Listen for the removal of the full notebook cells\n",
       "var notebookContainer = gd.closest('#notebook-container');\n",
       "if (notebookContainer) {{\n",
       "    x.observe(notebookContainer, {childList: true});\n",
       "}}\n",
       "\n",
       "// Listen for the clearing of the current output cell\n",
       "var outputEl = gd.closest('.output');\n",
       "if (outputEl) {{\n",
       "    x.observe(outputEl, {childList: true});\n",
       "}}\n",
       "\n",
       "                        })\n",
       "                };\n",
       "                });\n",
       "            </script>\n",
       "        </div>"
      ]
     },
     "metadata": {},
     "output_type": "display_data"
    }
   ],
   "source": [
    "dfpl = df[400:450]\n",
    "import plotly.graph_objects as go\n",
    "from datetime import datetime\n",
    "\n",
    "fig = go.Figure(data=[go.Candlestick(x=dfpl.index,\n",
    "                open=dfpl['open'],\n",
    "                high=dfpl['high'],\n",
    "                low=dfpl['low'],\n",
    "                close=dfpl['close'])])\n",
    "\n",
    "fig.show()"
   ]
  },
  {
   "cell_type": "code",
   "execution_count": null,
   "metadata": {},
   "outputs": [],
   "source": []
  }
 ],
 "metadata": {
  "kernelspec": {
   "display_name": "Python 3",
   "language": "python",
   "name": "python3"
  },
  "language_info": {
   "codemirror_mode": {
    "name": "ipython",
    "version": 3
   },
   "file_extension": ".py",
   "mimetype": "text/x-python",
   "name": "python",
   "nbconvert_exporter": "python",
   "pygments_lexer": "ipython3",
   "version": "3.7.3"
  }
 },
 "nbformat": 4,
 "nbformat_minor": 2
}
